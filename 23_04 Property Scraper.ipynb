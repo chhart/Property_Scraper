{
 "cells": [
  {
   "cell_type": "code",
   "execution_count": 2,
   "metadata": {},
   "outputs": [],
   "source": [
    "## all imports\n",
    "from IPython.display import HTML\n",
    "import numpy as np\n",
    "from urllib import request # urllib2 isn't supported by P3 - https://stackoverflow.com/questions/58794540/no-module-named-urllib2-how-do-i-use-it-in-python-so-i-can-make-a-request\n",
    "import bs4 #this is beautiful soup\n",
    "import time\n",
    "import operator\n",
    "import socket\n",
    "import pickle # was CPickle, but again use pickly for P3\n",
    "import re # regular expressions\n",
    "import csv\n",
    "from datetime import date as d\n",
    "\n",
    "from pandas import Series\n",
    "import pandas as pd\n",
    "from pandas import DataFrame\n",
    "\n",
    "import matplotlib\n",
    "import matplotlib.pyplot as plt\n",
    "%matplotlib inline\n",
    "\n",
    "import seaborn as sns\n",
    "sns.set_context(\"talk\")\n",
    "sns.set_style(\"white\")\n",
    "\n",
    "from secrets import *"
   ]
  },
  {
   "cell_type": "markdown",
   "metadata": {},
   "source": [
    "# Data Scraper\n",
    "#### I want to scrape Rightmove for potential properties for me and my mates to move into once this whole COVID thing is over!\n",
    "I'll start simple and probably build this out over time!\n",
    "\n",
    "@maksimKorzh's scraper here: https://github.com/maksimKorzh/one-time-scrapers/blob/master/scrapers/rightmove_scraper.py was a huge help"
   ]
  },
  {
   "cell_type": "code",
   "execution_count": 3,
   "metadata": {},
   "outputs": [],
   "source": [
    "url = 'https://www.rightmove.co.uk/property-to-rent/find.html?locationIdentifier=STATION%5E1400&minBedrooms=4&maxPrice=6000&minPrice=3000&radius=1.0&propertyTypes=&includeLetAgreed=false&mustHave=&dontShow=&furnishTypes=&keywords='\n",
    "source = request.urlopen(url).read().decode()\n",
    "soup = bs4.BeautifulSoup(source, 'lxml')\n",
    "pretty_soup = soup.prettify()"
   ]
  },
  {
   "cell_type": "markdown",
   "metadata": {},
   "source": [
    "So now the html has been parsed to lxml, I need to create the different component variables that I'm looking for:"
   ]
  },
  {
   "cell_type": "code",
   "execution_count": 5,
   "metadata": {},
   "outputs": [
    {
     "name": "stdout",
     "output_type": "stream",
     "text": [
      "['4 bedroom terraced house', '4 bedroom terraced house', '4 bedroom maisonette', '5 bedroom flat', '4 bedroom mews house', '4 bedroom house', '4 bedroom semi-detached house', '4 bedroom flat', '5 bedroom flat', '4 bedroom terraced house', '4 bedroom terraced house', '4 bedroom terraced house', '4 bedroom flat', '4 bedroom terraced house', '4 bedroom character property', '4 bedroom house', '4 bedroom terraced house', '4 bedroom house', '4 bedroom terraced house', '4 bedroom mews house', '4 bedroom house', '4 bedroom detached house', 'Property', 'Property', 'Property']\n",
      "\n",
      "['Stmathews Rd, Brixton, SW2', \"St Matthew's Road, Brixton Hill, London\", 'Burgate Court, London', 'Stockwell Green', 'Hazlewood Mews, London, SW9', 'Park Hill Clapham SW4', 'Kings Avenue, London, SW4', 'Aytoun Road, London, SW9', 'Edithna Road ', 'Welby Street, Camberwell, London, SE5', 'Sudbourne Road, Brixton', 'Torrens Road, Brixton', 'Aristotle Road, SW4', 'Stockwell Park Road, London, SW9', 'Hinton Road, London, SE24', 'Solon Road, SW2', 'Brockwell Park Row, SW2', 'Plato Road, London', 'Abbeville Road, Clapham', 'Barnwell Road, SW2', 'Mayall Road, Brixton, London, SE24', 'Branksome Road, Brixton', '', '', '']\n",
      "\n",
      "['0.45 miles from station', '0.45 miles from station', '0.13 miles from station', '0.45 miles from station', '0.71 miles from station', '0.91 miles from station', '0.80 miles from station', '0.41 miles from station', '0.56 miles from station', '0.85 miles from station', '0.37 miles from station', '0.49 miles from station', '0.76 miles from station', '0.81 miles from station', '0.56 miles from station', '0.53 miles from station', '0.92 miles from station', '0.56 miles from station', '0.97 miles from station', '0.39 miles from station', '0.42 miles from station', '0.62 miles from station']\n",
      "\n",
      "['We are proud to offer this delightful 4 bedroom, 2 bathroom terraced house in a great location. Available to move in from 15 April 2020, this property benefits from garden access. Property is off... ** Property Reference: 763526 **', 'Ideally located four bedroom house is perfect for sharers or a large family. This property comprises a large living area, separate kitchen, utility room, downstairs shower room and four double bedrooms! St Matthew´s Road perfectly located in close proximity to Brixton Station, meaning you c...', 'Seeking Prof. Sharers - 4 Double bed 2 Bath Top Spec - Be at London Victoria in 11 mins or Oxford Circus in 15 mins from stepping out of your front door Located 2 mins walk to Brixton National Rail and 3mins from Brixton tube station this property i...', 'This beautiful property boasts size, quality and location. This Victorian conversion, arranged over three floors and comprises of wooden flooring throughout, five double bedrooms, two bathrooms and stylish and contemporary living areas.', 'A stunning four-bedroom house with private garden and off street parking, situated in a gated mews development, just a short stroll from Clapham North station and the amenities of Clapham High Street', 'A stunning four/five bedroom freehold house with private garden, beautifully presented and located just moments from the wonderful Abbeville Village', 'A spacious and bright four-bedroom semi-detached house with large garden and off street parking, situated a short walk from both the Northern and Victoria Lines', \"SHORT LET! Fantastic four bed duplex maisonette. The property has a front garden in a quiet road, opposite a well-maintained pond. You're at a 5-minute walk to Stockwell Tube station, where you can catch Victoria and Northern lines.\", 'This truly stunning five bed roomed period house has been redecorated and refurbished to the highest of standard.Boasting three bathrooms, wooden floors, stylish fixtures and fittings and a beautiful scheduled easy to maintain patio garden.', 'Very well presented family house located in Camberwell just a short walk to Denmark Hill and Oval Underground Station. There are 3 floors, host to 4 bedrooms, 3 bathrooms and a small garden. 3 double bedrooms and 4th smaller single bedroom.', 'A substantial 1930’s terraced house on one of Brixton’s most desirable residential roads. The property features a large front reception room, separate kitchen, 4 double bedrooms (one slightly smaller than the others), a bathroom and a private garden. Ideally located, the house is moments from Bri...', 'A spacious four double bedroom house located in Brixton, offering a reception room, large bathroom, modern eat in kitchen with French doors onto a private rear garden.', 'LONG LET. ZERO DEPOSIT OPTION AVAILABLE. A fantastic modern four double bedroom apartment ideal for profesional sharers. The property benefits from four large double bedrooms, three bathrooms, living roomd and seperate modern kitchen. The property also benefits from a large private garden to the..', 'Extensively renovated and developed, immaculately presented four bedroom town house conveniently located just three minutes walk from Stockwell tube. Superb accommodation over four floors, and ben... ** Property Reference: 751689 **', '** NO REFERENCING FEES ** Available at the end of February is this newly built townhouse located conveniently between Brixton and Herne Hill. Offering four good sized bedrooms, a family bathroom, an en suite to the master bedroom and a downstairs cloakroom as well as a private decked g...', 'A charming example of a four double bedroom Victorian house between Clapham and Brixton', 'A beautiful four bed, three bath town house overlooking tranquil Brockwell Park.', 'A beautiful four double bedroom house close to both Clapham and Brixton.', 'A four bedroom two bathroom Victorian terraced house split over three floors. Newly refurbished with a private garden, this property is suitable for professional sharers.', 'Large four double bedroom house with a private garden in Brixton', 'Newly refurbished four double bedroom house located within walking distance of Brixton and Herne Hill. Double reception room, kitchen diner and two full sized bathrooms. Reclaimed pine flooring throughout the living spaces. Ideal for a family or 4 people sharing. ...', 'VERY SPECIAL. - AVAILABLE WITH DEPOSIT FREE OPTION. This beautifully well presented large and spacious four double bedroom house with garden.', '', '', '']\n",
      "\n",
      "['Added on 15/04/2020', 'Added on 15/04/2020', 'Added on 13/04/2020', 'Added on 09/04/2020', 'Reduced on 09/04/2020', 'Added on 04/04/2020', 'Added on 01/04/2020', 'Added on 24/03/2020', 'Added on 24/03/2020', 'Added on 23/03/2020', 'Added on 23/03/2020', 'Added on 23/03/2020', 'Reduced on 23/03/2020', 'Added on 20/03/2020', 'Added on 20/03/2020', 'Added on 18/03/2020', 'Added on 13/03/2020', 'Added on 13/03/2020', 'Added on 10/03/2020', 'Added on 10/03/2020', 'Added on 09/03/2020', 'Added on 02/03/2020', '', '', '']\n",
      "\n",
      "['by OpenRent, London', 'by Martin & Co, Streatham - Lettings and Sales', 'by Urban.co.uk, National', 'by Black Katz, London Bridge', 'by Marsh & Parsons, Clapham', 'by Kinleigh Folkard & Hayward - Lettings, Clapham', 'by Marsh & Parsons, Clapham', 'by Houst, London', 'by Black Katz, London Bridge', 'by Lavanda, London', 'by Eden Harper , Brixton', 'by Dexters, Clapham High Street', 'by Douglas & Gordon, Clapham Southside', 'by OpenRent, London', 'by Eaton Green Estate Agents, Camberwell', 'by Keating Estates, Clapham', 'by Keating Estates, Brixton', 'by Keating Estates, Clapham', 'by Jacksons Estate Agents, Clapham', 'by Keating Estates, Brixton', 'by Petermans, West Dulwich', 'by haart, Brixton - Lettings', '', '', '']\n",
      "\n",
      "['020 3322 3265', '020 3858 2715', '020 8012 4552', '020 8012 1690', '020 8012 4057', '020 3858 2400', '020 8012 4057', '020 8012 7036', '020 8012 1690', '020 3858 2772', '020 8012 3847', '020 7483 6364', '020 8012 3779', '020 3322 3265', '020 8012 4142', '020 8012 2330', '020 8012 9055', '020 8012 2330', '020 8012 0791', '020 8012 9055', '020 3858 2761', '020 8012 1473', '', '', '']\n",
      "\n",
      "['£3,000 pcm', '£3,000 pcm', '£3,250 pcm', '£3,835 pcm', '£3,445 pcm', '£3,650 pcm', '£3,445 pcm', '£3,550 pcm', '£4,498 pcm', '£3,012 pcm', '£3,198 pcm', '£3,501 pcm', '£3,683 pcm', '£4,900 pcm', '£3,200 pcm', '£3,510 pcm', '£3,445 pcm', '£3,380 pcm', '£3,750 pcm', '£3,250 pcm', '£3,700 pcm', '£3,250 pcm', '', '', '']\n",
      "\n",
      "['https://www.rightmove.co.uk/property-to-rent/property-78946597.html', 'https://www.rightmove.co.uk/property-to-rent/property-78939919.html', 'https://www.rightmove.co.uk/property-to-rent/property-91371155.html', 'https://www.rightmove.co.uk/property-to-rent/property-69571251.html', 'https://www.rightmove.co.uk/property-to-rent/property-78330154.html', 'https://www.rightmove.co.uk/property-to-rent/property-69496221.html', 'https://www.rightmove.co.uk/property-to-rent/property-78606799.html', 'https://www.rightmove.co.uk/property-to-rent/property-90792797.html', 'https://www.rightmove.co.uk/property-to-rent/property-69296988.html', 'https://www.rightmove.co.uk/property-to-rent/property-90767147.html', 'https://www.rightmove.co.uk/property-to-rent/property-78406369.html', 'https://www.rightmove.co.uk/property-to-rent/property-78401101.html', 'https://www.rightmove.co.uk/property-to-rent/property-90560207.html', 'https://www.rightmove.co.uk/property-to-rent/property-78337882.html', 'https://www.rightmove.co.uk/property-to-rent/property-78333196.html', 'https://www.rightmove.co.uk/property-to-rent/property-90586844.html', 'https://www.rightmove.co.uk/property-to-rent/property-90434222.html', 'https://www.rightmove.co.uk/property-to-rent/property-90433730.html', 'https://www.rightmove.co.uk/property-to-rent/property-90311705.html', 'https://www.rightmove.co.uk/property-to-rent/property-90291371.html', 'https://www.rightmove.co.uk/property-to-rent/property-78074293.html', 'https://www.rightmove.co.uk/property-to-rent/property-90121943.html', 'https://www.rightmove.co.uk', 'https://www.rightmove.co.uk', 'https://www.rightmove.co.uk']\n"
     ]
    }
   ],
   "source": [
    "# get the headline (i.e. the number of rooms and type of building):\n",
    "title = [title.text.strip() for title in soup.findAll('h2', {'class': 'propertyCard-title'})] # list comprehension woop! So I believe that the text attribute is specific to BS?\n",
    "print(title)\n",
    "print()\n",
    "\n",
    "# get the address:\n",
    "address = [address['content'] for address in soup.findAll('meta', {'itemprop': 'streetAddress'})] #need only the content element\n",
    "print(address)\n",
    "print()\n",
    "\n",
    "#get the number of miles from the station in question:\n",
    "miles = [miles.text.strip() for miles in soup.findAll('div', {'class': 'propertyCard-distance'})]\n",
    "print(miles)\n",
    "print()\n",
    "\n",
    "#get the property description:\n",
    "desc = [desc.text.strip() for desc in soup.findAll('span', {'itemprop':'description'})]\n",
    "print(desc)\n",
    "print()\n",
    "\n",
    "#get the date added to the site:\n",
    "dateadded = [dateadded.text.strip() for dateadded in soup.findAll('span', {'class': 'propertyCard-branchSummary-addedOrReduced'})]\n",
    "print(dateadded)\n",
    "print()\n",
    "\n",
    "#get the estate agent's name:\n",
    "agent = [agent.text.strip() for agent in soup.findAll('span', {'class': 'propertyCard-branchSummary-branchName'})]\n",
    "print(agent)\n",
    "print()\n",
    "\n",
    "#get the agent's number:\n",
    "number = [number.text.strip() for number in soup.findAll('a', {'class': 'propertyCard-contactsPhoneNumber'})]\n",
    "print(number)\n",
    "print()\n",
    "\n",
    "#get the property's price:\n",
    "price = [price.text.strip() for price in soup.findAll('span', {'class': 'propertyCard-priceValue'})]\n",
    "print(price)\n",
    "print()\n",
    "\n",
    "#link to the property's page:\n",
    "link = ['https://www.rightmove.co.uk' + link['href'] for link in soup.findAll('a', {'class': 'propertyCard-headerLink'})]\n",
    "print(link)"
   ]
  },
  {
   "cell_type": "markdown",
   "metadata": {},
   "source": []
  },
  {
   "cell_type": "code",
   "execution_count": 6,
   "metadata": {},
   "outputs": [
    {
     "name": "stdout",
     "output_type": "stream",
     "text": [
      "22\n"
     ]
    }
   ],
   "source": [
    "results = []\n",
    "count = sum(1 for i in price if not i is '')\n",
    "print(count)\n",
    "\n",
    "for index in range(0, count):\n",
    "    results.append({\n",
    "        'date_added to file' : d.today().strftime(\"%d/%m/%Y\"), #https://www.programiz.com/python-programming/online-compiler/?ref=957b4f50\n",
    "        'title' : title[index],\n",
    "        'address' : address[index],\n",
    "        'miles from station' : miles[index],\n",
    "        'description' : desc[index],\n",
    "        'price' : price[index],\n",
    "        'date added/price changed' : dateadded[index],\n",
    "        'agent' : agent[index],\n",
    "        'agent phone number' : number[index],\n",
    "        'link to property' : link[index]\n",
    "    })"
   ]
  },
  {
   "cell_type": "code",
   "execution_count": 7,
   "metadata": {
    "scrolled": false
   },
   "outputs": [
    {
     "name": "stdout",
     "output_type": "stream",
     "text": [
      "22\n",
      "\n"
     ]
    }
   ],
   "source": [
    "print(len(results))\n",
    "print()\n",
    "\n",
    "# produces dictionary within a list"
   ]
  },
  {
   "cell_type": "code",
   "execution_count": 8,
   "metadata": {},
   "outputs": [],
   "source": [
    "df = pd.DataFrame.from_dict(results)\n",
    "df.to_csv('properties.csv',encoding='utf-8', mode='w')\n",
    "df.to_csv('properties_cumulative.csv',encoding='utf-8', mode='a')"
   ]
  },
  {
   "cell_type": "code",
   "execution_count": null,
   "metadata": {},
   "outputs": [],
   "source": []
  }
 ],
 "metadata": {
  "kernelspec": {
   "display_name": "Python 3",
   "language": "python",
   "name": "python3"
  },
  "language_info": {
   "codemirror_mode": {
    "name": "ipython",
    "version": 3
   },
   "file_extension": ".py",
   "mimetype": "text/x-python",
   "name": "python",
   "nbconvert_exporter": "python",
   "pygments_lexer": "ipython3",
   "version": "3.7.6"
  }
 },
 "nbformat": 4,
 "nbformat_minor": 4
}
